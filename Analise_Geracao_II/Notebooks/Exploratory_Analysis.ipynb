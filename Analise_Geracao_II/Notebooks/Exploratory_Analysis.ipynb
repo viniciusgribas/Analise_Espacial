{
 "cells": [
  {
   "cell_type": "markdown",
   "metadata": {},
   "source": [
    "\n",
    "---\n",
    "\n",
    "# Vinicius Guerra e Ribas -  Energy Sector Analyst\n",
    "[Energy Engineer (UnB)](https://www.unb.br/) │ [Data Scientist and Analytics (USP)](https://www5.usp.br/)\n",
    "\n",
    "\n",
    "## [📧 E-mail](mailto:viniciusgribas@gmail.com?Subject=%5BEXPLORATORY-ANALYSIS-DATA%5D%20-%20Contact) │ [🎯 Linkedin](https://www.linkedin.com/in/vinicius-guerra-e-ribas/) │ [😸 GitHub](https://github.com/viniciusgribas) \n",
    "\n",
    "---\n",
    "\n",
    "---\n"
   ]
  },
  {
   "cell_type": "markdown",
   "metadata": {},
   "source": [
    "\n",
    "> 🇬🇧 - English\n",
    "\n",
    "This **Jupyter Notebook** is a **Data Exploration** for the purpose of providing the **Dashboard Report** with the most pertinent information. It first uploads previously treated data and then analyzes it in statistical and visual ways.\n",
    "\n",
    "This **Data Exploration** process composes the flow of a **data engineering solution** developed to provide Brazilian electric generation data in a **dashboard** type report, prioritizing to be iterative, dynamic and autonomous. Accessible by specialists in a timely manner.\n",
    "\n",
    "For better understanding, the code has been divided into five parts:\n",
    "\n",
    "- *Data Load*:\n",
    "  - Here, the `load_data()` function is created to load the data and present its first information, referring to the DataFrame generation date and updates from the Brazilian Electric Energy Agency server.\n",
    "  - Also in this section the variables created are classified according to their typology and explained (Metadata).\n",
    "\n",
    "\n",
    "- *Categorical Variables Analyses*:\n",
    "  - These analyses were critical, since the vast majority of the variables in this DataFrame are categorical.\n",
    "  \n",
    "  - First the unique values of each categorical variable are checked.\n",
    "  \n",
    "  - These values are then analyzed via an `alluvial diagram`, enabling a hierarchization of the variables.\n",
    "  \n",
    "- *DateTime Analyses*:\n",
    "  - It is known that outliers exist in this data, since in the ETL process null values were replaced by the year \"1900\".\n",
    "  \n",
    "  - Because of this, the data that does not contain outliers of this type is filtered.\n",
    "  \n",
    "  - Finally, temporal analyses are performed:\n",
    "    - *BOXPLOT*: Timeline - Generation Type and Enterprise.\n",
    "    - *HISTOGRAM*: Timeline - Phase and Generation Type\n",
    "    - *HEATMAP*: Timeline - Type of Generation and Granted Power\n",
    "  \n",
    "- *Categorical & Numerical Variables Analyses*:\n",
    "  - Hierarchical Analyses:\n",
    "    - *IcicleChart*: Granted Power by Phase, State and Generation Type in Brazil.\n",
    "    - *SunBurstChart*: Granted power by Phase, State and Generation type in Brazil.\n",
    "    - *TreeMapChart*: Granted Power by Phase, State and Generation type in Brazil. \n",
    "\n",
    "  - Analysis between variables:\n",
    "    - *BarChart*: Granted Power by State, State of Manufacture and Phase.\n",
    "    - *StripChart*: Granted Power by State, Generation Type, Phase and Enterprise.\n",
    "    - *3D-ScatterPlot*: Granted power and physical guarantee by Federal Government, Generation Type, Phase and enterprise.\n",
    "      - For this analysis only the projects with physical guarantees were considered.\n",
    "\n",
    "- Geographical Variables Analyses*:\n",
    "  - It is known that there are outliers in this data, since in the ETL process null values were replaced by 0.\n",
    "  - Because of this, the data that do not contain outliers of this type are filtered.\n",
    "  - *Iterative Cartesian Coordinate Map*: Granted Power, Generation Type, Enterprise and Phase.\n",
    "  \n",
    "The detailed step-by-step is presented below.\n",
    "\n",
    "---\n",
    "---\n",
    "\n",
    "> 🇧🇷 - Portuguese\n",
    "\n",
    "Este **Jupyter Notebook** é uma **Exploração de Dados** com o foco em subsidiar o ***Relatório em Dashboard** com as informações mais pertinentes. Primeiro são carregados dados previamente tratados e para depois os analisar de formas estatísticas e visuais.\n",
    "\n",
    "Esta **Exploração de Dados** compõe o fluxo da **solução em engenharia de dados** desenvolvida para apresentar dados de geração do setor elétrico brasileiro em um relatório do tipo **dashboard**, priorizando ser iterativo, dinâmico e autônomo. Acessível por especialistas de forma tempestiva.\n",
    "\n",
    "\n",
    "Para melhor compreensão, o código foi dividido em cinco partes:\n",
    "\n",
    "- *Data Load*:\n",
    "  - Aqui, é criada a função `load_data()` para carregar os dados e apresentar suas primeiras informações, referentes à data de geração do DataFrame e atualizações do servidor da Agência Nacional de Energia Elétrica.\n",
    "  -  Também nesta seção as variáveis criadas são classificadas de acordo com sua tipologia e explicadas(Metadados).\n",
    "\n",
    "\n",
    "- *Categorical Variables Analyses*:\n",
    "  - Estas análises foram fundamentais, uma vez que a grande maioria das variáveis deste DataFrame são categóricas.\n",
    "  \n",
    "  - Primeiro são verificados os valores únicos de cada variável categórica.\n",
    "  \n",
    "  - Estes valores são então analizados via `diagrama aluvial`, possibilitando uma hierarquização das variáveis.\n",
    "  \n",
    "- *DateTime Analyses*:\n",
    "  - Sabe-se que existem outliers nestes dados, uma vez que no processo de ETL valores nulos foram substituídos pelo ano \"1900\".\n",
    "  \n",
    "  - Por conta disso, filtram-se os dados que não contém outliers deste tipo.\n",
    "  \n",
    "  - Por fim, são realizadas análises temporais:\n",
    "    - *BOXPLOT*: Linha do tempo - Tipo de Geração e Empreendimento.\n",
    "    - *HISTOGRAM*: Linha do Tempo - Fase e Tipo de Geração.\n",
    "    - *HEATMAP*: Linha do Tempo - Tipo de Geração e Potência Outorgada.\n",
    "  \n",
    "- *Categorical & Numerical Variables Analyses*:\n",
    "  - Análises Hierarquicas:\n",
    "    - *IcicleChart*: Potência Outorgada por Fase, UF e tipo de Geração no Brasil.\n",
    "    - *SunBurstChart*: Potência Outorgada por Fase, UF e tipo de Geração no Brasil.\n",
    "    - *TreeMapChart*: Potência Outorgada por Fase, UF e tipo de Geração no Brasil. \n",
    "\n",
    "  - Análises entre variáveis:\n",
    "    - *BarChart*: Potência Outorgada por UF, Tipo de Geração e Fase.\n",
    "    - *StripChart*:Potência Outorgada por UF, Tipo de Geração, Fase e Empreendimento.\n",
    "    - *3D-ScatterPlot*: Potência Outorgada e Garantia Física por UF, Tipo de Geração,Fase e Empreendimento.\n",
    "      - Para esta Análise foram considerados apenas os empreendimentos com Garantia Física.\n",
    "\n",
    "- *Geographical Variables Analyses*:\n",
    "  - Sabe-se que existem outliers nestes dados, uma vez que no processo de ETL valores nulos foram substituídos por 0.\n",
    "  - Por conta disso, filtram-se os dados que não contém outliers deste tipo.\n",
    "  - *Mapa Iterativo de Coordenadas Cartesianas*: Potência Outorgada, Tipo de Geração, Empreendimento e Fase.\n",
    "  \n",
    "O passo a passo detalhado é apresentado abaixo, em inglês.\n",
    "\n",
    "---"
   ]
  },
  {
   "cell_type": "code",
   "execution_count": null,
   "metadata": {},
   "outputs": [],
   "source": [
    "# Library imports\n",
    "\n",
    "##  Data Exploration & Vizualization libraries\n",
    "import pandas as pd\n",
    "import numpy as np\n",
    "import matplotlib\n",
    "import matplotlib.pyplot as plt\n",
    "import plotly.express as px\n",
    "import plotly as plt\n",
    "import plotly.figure_factory as ff\n",
    "import plotly.graph_objects as go\n",
    "\n",
    "##  Web Scrapping library\n",
    "import requests\n",
    "\n",
    "# Functions\n",
    "def linha(x):\n",
    "    # Generates a Line with the input simbol\n",
    "\n",
    "    print(x*50)\n",
    "\n",
    "def load_data():\n",
    "    # Function for loading data\n",
    "\n",
    "    # Server request, dataframe generation and consolidation of DateTime variables\n",
    "    patch = r\"https://raw.githubusercontent.com/viniciusgribas/Analise_dados_geracao_BR/main/Analise_Geracao_II/Notebooks/output/CSV/Generation_Data.csv\"\n",
    "\n",
    "    response_API = requests.get(patch) \n",
    "    \n",
    "    df = pd.read_csv(patch ,encoding='utf-8') \n",
    "\n",
    "    df.DatEntradaOperacao = pd.to_datetime(df.DatEntradaOperacao)\n",
    "    df.DatInicioVigencia  = pd.to_datetime(df.DatInicioVigencia)\n",
    "    df.DatFimVigencia = pd.to_datetime(df.DatFimVigencia)\n",
    "    df.ETL_CreatedDataLoad_At = pd.to_datetime(df.ETL_CreatedDataLoad_At)\n",
    "    df.ETL_DataBase_LastModified = pd.to_datetime(df.ETL_DataBase_LastModified)\n",
    "\n",
    "    # Additional informations\n",
    "    print('CREATION DATE [',df.ETL_CreatedDataLoad_At[1], ']') # Time this file was generated by the ETL\n",
    "    print('LAST SERVER UPDATE ON DATA [',df.ETL_DataBase_LastModified[1],']') # Time the host last updated the file\n",
    "    return (df)\n",
    "\n",
    "# Personal Label\n",
    "github = \"_GitHub_@viniciusgribas\""
   ]
  },
  {
   "cell_type": "markdown",
   "metadata": {},
   "source": [
    "## Data Load"
   ]
  },
  {
   "cell_type": "code",
   "execution_count": null,
   "metadata": {},
   "outputs": [],
   "source": [
    "# Data Load\n",
    "df = load_data()\n",
    "\n",
    "#   VARIABLE CLASSIFICATION\n",
    "\n",
    "#### Column                          Dtype             Variable Type       \n",
    "## ---  ------                      -----              ----------             │ \n",
    "##  Empreendimento               │  object       │  CATEGORICAL-NOMINAL       │\n",
    "##  UF                           │  object       │  CATEGORICAL-NOMINAL       │\n",
    "##  TipoGeracao                  │  object       │  CATEGORICAL-NOMINAL       │\n",
    "##  Fase                         │  object       │  CATEGORICAL-ORDINAL       │\n",
    "##  OrigemCombustivel            │  object       │  CATEGORICAL-NOMINAL       │\n",
    "##  FonteCombustivel             │  object       │  CATEGORICAL-NOMINAL       │\n",
    "##  Outorga                      │  object       │  CATEGORICAL-ORDINAL       │\n",
    "##  NomeCombustivel              │  object       │  CATEGORICAL-ORDINAL       │\n",
    "##  DatEntradaOperacao           │  datetime64   │  CATEGORICAL-DATETIME      │\n",
    "##  MdaPotenciaOutorgadaKW       │  float64      │  NUMERICAL-CONTINOUS-RATIO │\n",
    "##  MdaPotenciaFiscalizadaKW     │  int64        │  NUMERICAL-DISCRETE        │\n",
    "##  MdaGarantiaFisicaKW          │  float64      │  NUMERICAL-CONTINOUS-RATIO │\n",
    "##  GeracaoQualificada           │  object       │  CATEGORICAL-BINARY        │\n",
    "##  Y                            │  float64      │  NUMERICAL-CONTINOUS-INTERVAL*│ \n",
    "##  X                            │  float64      │  NUMERICAL-CONTINOUS-INTERVAL*│\n",
    "##  DatInicioVigencia            │  datetime64   │  CATEGORICAL-DATETIME      │\n",
    "##  DatFimVigencia               │  datetime64   │  CATEGORICAL-DATETIME      │\n",
    "##  ETL_CreatedDataLoad_At       │  datetime64   │  CATEGORICAL-DATETIME      │\n",
    "##  ETL_DataBase_LastModified    │  datetime64   │  CATEGORICAL-DATETIME      │\n",
    "\n",
    "### *Geographical Variables\n",
    "# ----------------------------------------------------------------------------------------------\n",
    "# VARIABLE METADATA\n",
    "\n",
    "# | Variable                 | Type        | Meaning                      |\n",
    "# |--------------------------|-------------|------------------------------|\n",
    "# | MdaGarantiaFisicaKW      | Numerical   | Physical Guarantee of Energy |\n",
    "# | MdaPotenciaFiscalizadaKW | Numerical   | Supervised Electric Power    |\n",
    "# | MdaPotenciaOutorgadaKW   | Numerical   | Granted Electric Power       |\n",
    "# | Empreendimento           | Categorical | Business Name                |\n",
    "# | UF                       | Categorical | Brasil States                |\n",
    "# | TipoGeracao              | Categorical | Generation Type              |\n",
    "# | Fase                     | Categorical | Operational Phase            |\n",
    "# | OrigemCombustivel        | Categorical | Fuel Origin                  |\n",
    "# | FonteCombustivel         | Categorical | Fuel Source                  |\n",
    "# | NomeCombustivel          | Categorical | Fuel Name                    |\n",
    "# | Outorga                  | Categorical | Grant                        |\n",
    "# | GeracaoQualificada       | Categorical | Qualified Generation Mode    |\n",
    "# | DatEntradaOperacao       | Date-Time   | Operation Start Date         |\n",
    "# | DatInicioVigencia        | Date-Time   | Start Date of Contract       |\n",
    "# | DatFimVigencia           | Date-Time   | End Date of Contract         |\n",
    "# | X                        | Geographic  | Longitude Values             |\n",
    "# | Y                        | Geographic  | Latitude Values              |\n",
    "# │ ETL_CreatedDataLoad_At   │ Date-Time   | DataFrame creation date      |\n",
    "# │ ETL_DataBase_LastModified│ Date-Time   | DataFrame Last Updated       |\n",
    "\n",
    "# Analyze the columns names\n",
    "df.info()"
   ]
  },
  {
   "cell_type": "markdown",
   "metadata": {},
   "source": [
    "## Categorical Variables Analyses"
   ]
  },
  {
   "cell_type": "code",
   "execution_count": null,
   "metadata": {},
   "outputs": [],
   "source": [
    "# Considering that most variables in this DataFrame are categorical, it is important to hierarchize them, making it more intuitive.\n",
    "\n",
    "# Unique Values Analyses.\n",
    "print(df.select_dtypes(['object']).nunique().sort_values())\n",
    "linha('*')\n",
    "print('GeracaoQualificada - Unique',df.GeracaoQualificada.unique())\n",
    "linha('-')\n",
    "print('Fase - Unique',df.Fase.unique())\n",
    "linha('-')\n",
    "print('Outorga - Unique',df.Outorga.unique())\n",
    "linha('-')\n",
    "print('OrigemCombustivel - Unique',df.OrigemCombustivel.unique())\n",
    "linha('-')\n",
    "print('TipoGeracao - Unique',df.TipoGeracao.unique())\n",
    "linha('-')\n",
    "print('FonteCombustivel - Unique',df.FonteCombustivel.unique())\n",
    "linha('-')\n",
    "print('UF - Unique',df.UF.unique())\n",
    "linha('-')\n",
    "print('NomeCombustivel - Unique',df.NomeCombustivel.unique())\n",
    "\n",
    "# By the number of unique values, a possible hierarchical order is:\n",
    "# 'GeracaoQualificada' > 'Fase' > 'Outorga' > OrigemCombustivel > TipoGeracao > FonteCombustivel > UF "
   ]
  },
  {
   "cell_type": "code",
   "execution_count": null,
   "metadata": {},
   "outputs": [],
   "source": [
    "# Visualizing the relationship and variables hierarchy.\n",
    "\n",
    "fig = px.parallel_categories(df,\n",
    "dimensions  = ['GeracaoQualificada','Fase','Outorga','OrigemCombustivel','TipoGeracao','FonteCombustivel','NomeCombustivel'],\n",
    "labels ={'GeracaoQualificada','Fase','Outorga','OrigemCombustivel','TipoGeracao','FonteCombustivel','NomeCombustivel'}\n",
    ")\n",
    "\n",
    "# UF - [Not used in this view]\n",
    "# GeracaoQualificada\n",
    "# Fase\n",
    "# Outorga\n",
    "# OrigemCombustivel\n",
    "# TipoGeracao\n",
    "# FonteCombustivel\n",
    "# NomeCombustivel\n",
    "\n",
    "\n",
    "fig.show()"
   ]
  },
  {
   "cell_type": "markdown",
   "metadata": {},
   "source": [
    "## DateTime Analyses"
   ]
  },
  {
   "cell_type": "code",
   "execution_count": null,
   "metadata": {},
   "outputs": [],
   "source": [
    "# There are outliers in the year 1900\n",
    "# To analyze variables with dates, two new variables are created:\n",
    "## 'df_data' and 'df_data_op' without outliers.\n",
    "\n",
    "df_data = df.get(df['DatInicioVigencia']>'1901')\n",
    "df_data = df.get(df['DatFimVigencia']>'1901')\n",
    "df_data_op = df.get(df['DatEntradaOperacao']>'1901')"
   ]
  },
  {
   "cell_type": "markdown",
   "metadata": {},
   "source": [
    "### BOXPLOT: Timeline - Type of Generation and Business"
   ]
  },
  {
   "cell_type": "code",
   "execution_count": null,
   "metadata": {},
   "outputs": [],
   "source": [
    "fig = px.box(df_data,\n",
    "    title='DatInicioVigencia',\n",
    "    x='TipoGeracao',\n",
    "    y=\"DatInicioVigencia\",\n",
    "    hover_name='Empreendimento',\n",
    "    color='TipoGeracao',\n",
    "    points=\"all\")\n",
    "fig.show()\n",
    "\n",
    "fig = px.box(df_data,\n",
    "    title='DatFimVigencia',\n",
    "    x='TipoGeracao',\n",
    "    color='TipoGeracao',\n",
    "    y=\"DatFimVigencia\",\n",
    "    hover_name='Empreendimento',\n",
    "    points=\"all\")\n",
    "fig.show()\n",
    "\n",
    "fig = px.box(df_data_op,\n",
    "title='DatEntradaOperacao',\n",
    "x='TipoGeracao',\n",
    "color='TipoGeracao',\n",
    "y=\"DatEntradaOperacao\",\n",
    "hover_name='Empreendimento',\n",
    "points=\"all\")\n",
    "fig.show()"
   ]
  },
  {
   "cell_type": "markdown",
   "metadata": {},
   "source": [
    "### HISTOGRAM: Timeline - Phase and Type of Generation"
   ]
  },
  {
   "cell_type": "code",
   "execution_count": null,
   "metadata": {},
   "outputs": [],
   "source": [
    "fig = px.histogram(df_data,\n",
    "    title='DatInicioVigencia',\n",
    "    x=\"DatInicioVigencia\",\n",
    "    marginal='violin',\n",
    "    color = 'Fase',\n",
    "    barmode='group',\n",
    "    animation_frame='TipoGeracao',\n",
    "    labels='TipoGeracao',\n",
    "    range_y = (0,300),\n",
    " )\n",
    "fig.show()\n",
    "\n",
    "fig = px.histogram(df_data,\n",
    "    title='DatFimVigencia',\n",
    "    x=\"DatFimVigencia\",\n",
    "    marginal='violin',\n",
    "    color = 'Fase',\n",
    "    barmode='group',\n",
    "    animation_frame='TipoGeracao',\n",
    "    labels='TipoGeracao',\n",
    "    range_y = (0,300),\n",
    " )\n",
    "\n",
    "fig.show()\n",
    "fig = px.histogram(df_data_op,\n",
    "    title='DatEntradaOperacao',\n",
    "    x=\"DatEntradaOperacao\",\n",
    "    marginal='violin',\n",
    "    color = 'Fase',\n",
    "    barmode='group',\n",
    "    animation_frame='TipoGeracao',\n",
    "    labels='TipoGeracao',\n",
    "    range_y = (0,300),\n",
    " )\n",
    "fig.show()"
   ]
  },
  {
   "cell_type": "markdown",
   "metadata": {},
   "source": [
    "### HEATMAP: Timeline - Type of Generation and Granted Power"
   ]
  },
  {
   "cell_type": "code",
   "execution_count": null,
   "metadata": {},
   "outputs": [],
   "source": [
    "fig_dens = px.density_heatmap(df_data, \n",
    " title='Timeline - GrantedPower - DatInicioVigencia',                \n",
    " x=\"DatInicioVigencia\",                               \n",
    " y=\"TipoGeracao\",                     \n",
    " z= \"MdaPotenciaOutorgadaKW\" ,         \n",
    " marginal_x=\"histogram\",              \n",
    " marginal_y=\"histogram\",               \n",
    " text_auto=True                        \n",
    ")\n",
    "fig_dens.show()\n",
    "\n",
    "fig_dens = px.density_heatmap(df_data, \n",
    " title='Timeline - GrantedPower - DatFimVigencia',                \n",
    " x=\"DatFimVigencia\",                               \n",
    " y=\"TipoGeracao\",                     \n",
    " z= \"MdaPotenciaOutorgadaKW\" ,         \n",
    " marginal_x=\"histogram\",              \n",
    " marginal_y=\"histogram\",               \n",
    " text_auto=True                        \n",
    ")\n",
    "fig_dens.show()\n",
    "\n",
    "fig_dens = px.density_heatmap(df_data_op, \n",
    " title='Timeline - GrantedPower - DatEntradaOperacao',                \n",
    " x=\"DatEntradaOperacao\",                               \n",
    " y=\"TipoGeracao\",                     \n",
    " z= \"MdaPotenciaOutorgadaKW\" ,         \n",
    " marginal_x=\"histogram\",              \n",
    " marginal_y=\"histogram\",               \n",
    " text_auto=True                        \n",
    ")\n",
    "fig_dens.show()\n"
   ]
  },
  {
   "cell_type": "markdown",
   "metadata": {},
   "source": [
    "## Categorical & Numerical Variables Analyses"
   ]
  },
  {
   "cell_type": "code",
   "execution_count": null,
   "metadata": {},
   "outputs": [],
   "source": [
    "round(df.describe(),2)"
   ]
  },
  {
   "cell_type": "markdown",
   "metadata": {},
   "source": [
    "### Hierarchy Analysis"
   ]
  },
  {
   "cell_type": "markdown",
   "metadata": {},
   "source": [
    "#### Granted Power by Phase, Type of Generation and States in Brazil"
   ]
  },
  {
   "cell_type": "code",
   "execution_count": null,
   "metadata": {},
   "outputs": [],
   "source": [
    "size = 750\n",
    "\n",
    "fig_IcicleChart = px.icicle(df, \n",
    "    path=[px.Constant('BRASIL'),\n",
    "        'Fase',\n",
    "        \"UF\",\n",
    "        'TipoGeracao'],\n",
    "    values='MdaPotenciaOutorgadaKW',\n",
    "    title= 'Granted Power by Phase, Type of Generation and States in Brazil',\n",
    "    width=size,\n",
    "    height=size*2,\n",
    "    maxdepth = -1  )\n",
    "\n",
    "fig_IcicleChart.update_traces(root_color=\"lightgrey\")\n",
    "fig_IcicleChart.update_layout(margin = dict(t=50, l=50, r=50, b=50))\n",
    "fig_IcicleChart.show()\n",
    "\n",
    "# plt.offline.plot(fig_IcicleChart, filename = title_IcicleChart_export)"
   ]
  },
  {
   "cell_type": "code",
   "execution_count": null,
   "metadata": {},
   "outputs": [],
   "source": [
    "size = 750\n",
    "\n",
    "fig_SunBurstChart = px.sunburst(df, \n",
    "    path=[px.Constant('BRASIL'),\n",
    "        'Fase',\n",
    "        \"UF\",\n",
    "        'TipoGeracao'],\n",
    "    values='MdaPotenciaOutorgadaKW',\n",
    "    title= 'Granted Power by Phase, Type of Generation and States in Brazil',\n",
    "    width=size,\n",
    "    height=size*2,\n",
    "    maxdepth = -1  )\n",
    "\n",
    "\n",
    "\n",
    "fig_SunBurstChart.update_traces(root_color=\"lightgrey\")\n",
    "fig_SunBurstChart.update_layout(margin = dict(t=50, l=50, r=50, b=50))\n",
    "fig_SunBurstChart.show()"
   ]
  },
  {
   "cell_type": "code",
   "execution_count": null,
   "metadata": {},
   "outputs": [],
   "source": [
    "size = 750\n",
    "\n",
    "fig_treemapChart = px.treemap(df, \n",
    "    path=[px.Constant('BRASIL'),\n",
    "        \"Fase\",\n",
    "        'OrigemCombustivel',\n",
    "        'FonteCombustivel',\n",
    "        'UF'\n",
    "        ],\n",
    "    values='MdaPotenciaOutorgadaKW',\n",
    "    title= 'Granted Power by Phase, Type of Generation and States in Brazil',\n",
    "    width=size*2,\n",
    "    height=size,\n",
    "    maxdepth = -1  )\n",
    "\n",
    "\n",
    "\n",
    "fig_treemapChart.update_traces(root_color=\"lightgrey\")\n",
    "fig_treemapChart.update_layout(margin = dict(t=50, l=50, r=50, b=50))\n",
    "fig_treemapChart.show()"
   ]
  },
  {
   "cell_type": "markdown",
   "metadata": {},
   "source": [
    "### Cross-variable analysis:"
   ]
  },
  {
   "cell_type": "markdown",
   "metadata": {},
   "source": [
    "#### Bar Chart - Power Granted by State, Generation Type and Phase"
   ]
  },
  {
   "cell_type": "code",
   "execution_count": null,
   "metadata": {},
   "outputs": [],
   "source": [
    "fig_BarChart = px.bar(df, \n",
    " x=\"UF\",                      \n",
    " y=\"MdaPotenciaOutorgadaKW\",  \n",
    " color=\"TipoGeracao\",         \n",
    " hover_name='Fase',\n",
    " title='Bar Chart - Power Granted by State, Generation Type and Phase',        \n",
    " width=800,                   \n",
    " height=1000,                 \n",
    " animation_frame='Fase'\n",
    ")\n",
    "fig_BarChart.show()           "
   ]
  },
  {
   "cell_type": "markdown",
   "metadata": {},
   "source": [
    "#### Strip Chart - Power Granted by States, Generation Type, Phase and Business"
   ]
  },
  {
   "cell_type": "code",
   "execution_count": null,
   "metadata": {},
   "outputs": [],
   "source": [
    "fig_Strip = px.strip(df,  \n",
    " x=\"MdaPotenciaOutorgadaKW\",  \n",
    " y=\"UF\",                      \n",
    " orientation=\"h\",            \n",
    " hover_name=\"Empreendimento\", \n",
    " title = 'Strip Chart - Power Granted by States, Generation Type, Phase and Business',\n",
    " color=\"TipoGeracao\",      \n",
    " animation_frame='Fase'\n",
    ")\n",
    "fig_Strip.show()"
   ]
  },
  {
   "cell_type": "markdown",
   "metadata": {},
   "source": [
    "#### 3D Chart - Granted Power and Physical Guarantee by States and Generation Type"
   ]
  },
  {
   "cell_type": "code",
   "execution_count": null,
   "metadata": {},
   "outputs": [],
   "source": [
    "# Filtering only the enterprises with physical guarantees of generation\n",
    "dfGuarantee=df.get(df.MdaGarantiaFisicaKW > 0)\n",
    "\n",
    "fig = px.scatter_3d(dfGuarantee,\n",
    "    x='MdaPotenciaOutorgadaKW',\n",
    "    y='MdaGarantiaFisicaKW',\n",
    "    z='UF',\n",
    "    color='TipoGeracao',\n",
    "    title= '3D Chart - Granted Power and Physical Guarantee by States and Generation Type',\n",
    "    hover_name='Empreendimento',\n",
    "    symbol='TipoGeracao', \n",
    "    animation_frame='Fase')\n",
    "fig.show()"
   ]
  },
  {
   "cell_type": "markdown",
   "metadata": {},
   "source": [
    "## Geographical Variables Analyses"
   ]
  },
  {
   "cell_type": "markdown",
   "metadata": {},
   "source": [
    "### Iterative Cartesian Coordinate Map"
   ]
  },
  {
   "cell_type": "code",
   "execution_count": null,
   "metadata": {},
   "outputs": [],
   "source": [
    "# There are outliers in the latitude/longitute 0\n",
    "# To analyze variables with geographical values, a new variable are created:\n",
    "## 'df_map' without outliers.\n",
    "\n",
    "df_map = df.get(df['X']!=0.0)"
   ]
  },
  {
   "cell_type": "code",
   "execution_count": null,
   "metadata": {},
   "outputs": [],
   "source": [
    "fig_pointsMap = px.scatter_mapbox(df_map,                                         \n",
    " lat=\"Y\",                                              \n",
    " lon=\"X\",                                              \n",
    " color=\"TipoGeracao\",                       \n",
    " size=\"MdaPotenciaOutorgadaKW\",                        \n",
    " color_continuous_scale=px.colors.sequential.matter,   \n",
    " hover_name = \"Empreendimento\",                \n",
    " hover_data = [\"MdaPotenciaOutorgadaKW\"],\n",
    " title= 'Iterative Cartesian Coordinate Map',              \n",
    " size_max=80,                                          \n",
    " zoom=3,                                               \n",
    " mapbox_style='open-street-map',                      \n",
    " animation_frame='Fase'                        \n",
    ")\n",
    "\n",
    "fig_pointsMap.show()"
   ]
  }
 ],
 "metadata": {
  "interpreter": {
   "hash": "cb6e65f70699a07add2f93be7170be57cde1c5869bd1453ade20ffe97ceb49bd"
  },
  "kernelspec": {
   "display_name": "Python 3.9.12 ('geo_env')",
   "language": "python",
   "name": "python3"
  },
  "language_info": {
   "codemirror_mode": {
    "name": "ipython",
    "version": 3
   },
   "file_extension": ".py",
   "mimetype": "text/x-python",
   "name": "python",
   "nbconvert_exporter": "python",
   "pygments_lexer": "ipython3",
   "version": "3.9.12"
  },
  "orig_nbformat": 4
 },
 "nbformat": 4,
 "nbformat_minor": 2
}
